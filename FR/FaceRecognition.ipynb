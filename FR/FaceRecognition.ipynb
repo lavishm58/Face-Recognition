{
 "cells": [
  {
   "cell_type": "code",
   "execution_count": 50,
   "metadata": {},
   "outputs": [
    {
     "name": "stdout",
     "output_type": "stream",
     "text": [
      "The autoreload extension is already loaded. To reload it, use:\n",
      "  %reload_ext autoreload\n"
     ]
    }
   ],
   "source": [
    "from keras.models import load_model\n",
    "from keras.layers import Conv2D, ZeroPadding2D, Activation, Input, concatenate,Dropout\n",
    "from keras.models import Model\n",
    "from keras.utils import CustomObjectScope\n",
    "from keras.layers.normalization import BatchNormalization\n",
    "from keras.layers.pooling import MaxPooling2D, AveragePooling2D\n",
    "from keras.layers.merge import Concatenate\n",
    "from keras.layers.core import Lambda, Flatten, Dense\n",
    "from keras.initializers import glorot_uniform\n",
    "from keras.engine.topology import Layer\n",
    "from keras import backend as K\n",
    "K.set_image_data_format('channels_first')\n",
    "import cv2\n",
    "import h5py\n",
    "import os\n",
    "import numpy as np\n",
    "from numpy import genfromtxt\n",
    "import pandas as pd\n",
    "import tensorflow as tf\n",
    "from fr_utils import *\n",
    "from inception_blocks_v2 import *\n",
    "import csv\n",
    "import time\n",
    "import pandas as pd\n",
    "%matplotlib inline\n",
    "%load_ext autoreload\n",
    "%autoreload 2\n",
    "\n",
    "np.set_printoptions(threshold=np.nan)"
   ]
  },
  {
   "cell_type": "code",
   "execution_count": 4,
   "metadata": {},
   "outputs": [],
   "source": [
    "FRmodel = faceRecoModel(input_shape=(3, 96, 96))\n",
    "for layer in FRmodel.layers:\n",
    "    layer.trainable=False"
   ]
  },
  {
   "cell_type": "code",
   "execution_count": 4,
   "metadata": {},
   "outputs": [
    {
     "name": "stdout",
     "output_type": "stream",
     "text": [
      "Total Params: 3743280\n"
     ]
    }
   ],
   "source": [
    "FRmodel.get_layer('dense_layer').trainable=True\n",
    "print(\"Total Params:\", FRmodel.count_params())"
   ]
  },
  {
   "cell_type": "code",
   "execution_count": 7,
   "metadata": {},
   "outputs": [],
   "source": [
    "# GRADED FUNCTION: triplet_loss\n",
    "\n",
    "def triplet_loss(y_true, y_pred, alpha = 0.2):\n",
    "    anchor, positive, negative = y_pred[0], y_pred[1], y_pred[2]\n",
    "\n",
    "    pos_dist = tf.reduce_sum(tf.square(tf.subtract(anchor,positive)),axis=-1)\n",
    "    neg_dist = tf.reduce_sum(tf.square(tf.subtract(anchor,negative)),axis=-1)\n",
    "    basic_loss = pos_dist - neg_dist + alpha\n",
    "    \n",
    "    loss = tf.reduce_sum(tf.maximum(basic_loss,0))\n",
    "    \n",
    "    return loss"
   ]
  },
  {
   "cell_type": "code",
   "execution_count": 8,
   "metadata": {},
   "outputs": [],
   "source": [
    "FRmodel.compile(optimizer = 'adam', loss = triplet_loss, metrics = ['accuracy'])\n",
    "load_weights_from_FaceNet(FRmodel)"
   ]
  },
  {
   "cell_type": "code",
   "execution_count": 33,
   "metadata": {},
   "outputs": [
    {
     "data": {
      "text/plain": [
       "'Bryan_Chui_0001.jpg'"
      ]
     },
     "execution_count": 33,
     "metadata": {},
     "output_type": "execute_result"
    }
   ],
   "source": [
    "# x = FRmodel.get_layer('dense_layer').output\n",
    "# merge_one = Dense(128, activation='relu', name='last_layer')(x)\n",
    "# merge_one = Dropout(0.3)(merge_one)\n",
    "# merge_one = Lambda(lambda  x: K.l2_normalize(x,axis=1))(merge_one)\n",
    "# FRmodel.compile(optimizer = 'adam', loss = triplet_loss, metrics = ['accuracy'])\n",
    "os.listdir('lfw/Bryan_Chui')[0]t=time.time()"
   ]
  },
  {
   "cell_type": "code",
   "execution_count": 6,
   "metadata": {},
   "outputs": [],
   "source": [
    "# model = Model(inputs=FRmodel.input,outputs=merge_one)"
   ]
  },
  {
   "cell_type": "code",
   "execution_count": 49,
   "metadata": {},
   "outputs": [
    {
     "name": "stderr",
     "output_type": "stream",
     "text": [
      "/home/lavish/Documents/tensorflow3/lib/python3.5/site-packages/skimage/transform/_warps.py:84: UserWarning: The default mode, 'constant', will be changed to 'reflect' in skimage 0.15.\n",
      "  warn(\"The default mode, 'constant', will be changed to 'reflect' in \"\n"
     ]
    },
    {
     "name": "stdout",
     "output_type": "stream",
     "text": [
      "0 is completed in  0.2731924057006836\n",
      "100 is completed in  53.56308889389038\n",
      "200 is completed in  107.87709426879883\n",
      "300 is completed in  45.5391685962677\n",
      "400 is completed in  52.24723696708679\n",
      "500 is completed in  61.02775835990906\n",
      "600 is completed in  49.138195514678955\n",
      "700 is completed in  53.86868453025818\n",
      "800 is completed in  74.59131479263306\n",
      "900 is completed in  56.03698420524597\n",
      "1000 is completed in  65.25782632827759\n",
      "1100 is completed in  47.31188082695007\n",
      "1200 is completed in  51.63595962524414\n",
      "1300 is completed in  51.30126976966858\n",
      "1400 is completed in  75.28509640693665\n",
      "1500 is completed in  69.22555637359619\n",
      "1600 is completed in  131.5475869178772\n",
      "1700 is completed in  90.64619088172913\n",
      "1800 is completed in  64.17503595352173\n",
      "1900 is completed in  50.97138714790344\n",
      "2000 is completed in  59.940056562423706\n",
      "2100 is completed in  65.46990823745728\n",
      "2200 is completed in  84.2909665107727\n",
      "2300 is completed in  88.81268954277039\n",
      "2400 is completed in  67.01244330406189\n",
      "2500 is completed in  83.67250061035156\n",
      "2600 is completed in  62.87243294715881\n",
      "2700 is completed in  51.12404489517212\n",
      "2800 is completed in  46.10834717750549\n",
      "2900 is completed in  61.60406303405762\n",
      "3000 is completed in  67.38165640830994\n",
      "3100 is completed in  55.33000111579895\n",
      "3200 is completed in  59.11461639404297\n",
      "3300 is completed in  50.34496760368347\n",
      "3400 is completed in  61.664026498794556\n",
      "3500 is completed in  87.77219295501709\n",
      "3600 is completed in  54.950183153152466\n",
      "3700 is completed in  55.193793535232544\n",
      "3800 is completed in  68.95547890663147\n",
      "3900 is completed in  68.46810412406921\n",
      "4000 is completed in  204.87523531913757\n",
      "4100 is completed in  62.6559476852417\n",
      "4200 is completed in  53.85130476951599\n",
      "4300 is completed in  74.88994526863098\n",
      "4400 is completed in  94.52631545066833\n",
      "4500 is completed in  65.39774632453918\n",
      "4600 is completed in  66.08807754516602\n",
      "4700 is completed in  68.76419138908386\n",
      "4800 is completed in  50.550190687179565\n",
      "4900 is completed in  50.6531023979187\n",
      "5000 is completed in  63.79796481132507\n",
      "5100 is completed in  56.45739126205444\n",
      "5200 is completed in  49.143579959869385\n",
      "5300 is completed in  61.02727556228638\n",
      "5400 is completed in  49.733516693115234\n",
      "5500 is completed in  59.361928939819336\n",
      "5600 is completed in  53.629032135009766\n",
      "5700 is completed in  45.80058789253235\n"
     ]
    }
   ],
   "source": [
    "t_tot=0\n",
    "with open('database.csv', 'w', newline='') as csvfile,open('test.csv', 'w', newline='') as csvfile2:\n",
    "    spamwriter = csv.writer(csvfile, delimiter=',')\n",
    "    spamwriter2 = csv.writer(csvfile2, delimiter=',')\n",
    "    for num_folder,folder in enumerate(os.listdir('lfw/')):\n",
    "        t0=time.time()\n",
    "        for file_num,file in enumerate(os.listdir('lfw/'+folder)):\n",
    "            file_ad = 'lfw/'+folder+'/'+file\n",
    "            img_data=img_to_encoding2(file_ad,FRmodel)\n",
    "            img_data=np.ndarray.tolist(img_to_encoding2(file_ad,FRmodel))       \n",
    "            img_data=img_data[0]\n",
    "            img_data.append(folder)\n",
    "            \n",
    "            if file_num%2==0:\n",
    "                spamwriter.writerow(img_data)\n",
    "            else:\n",
    "                spamwriter2.writerow(img_data)\n",
    "        t=time.time()\n",
    "        t_tot+=(t-t0)\n",
    "        if int(num_folder%100)==0:\n",
    "            print(num_folder,'is completed in ',t_tot)\n",
    "            t_tot=0\n",
    "#print(img_data)\n",
    "\n"
   ]
  },
  {
   "cell_type": "code",
   "execution_count": 166,
   "metadata": {},
   "outputs": [],
   "source": []
  },
  {
   "cell_type": "code",
   "execution_count": 206,
   "metadata": {
    "scrolled": false
   },
   "outputs": [],
   "source": [
    "# FUNCTION: who_is_it\n",
    "\n",
    "def who_is_it(image_path,person,database, model):   \n",
    "\n",
    "    encoding = img_to_encoding2(image_path,model)\n",
    "    \n",
    "    min_dist = 100\n",
    "    \n",
    "    for (name, db_enc) in database.items():\n",
    "        \n",
    "        dist = np.linalg.norm(encoding-db_enc)\n",
    "        \n",
    "        if dist<min_dist:\n",
    "            min_dist = dist\n",
    "            c=0\n",
    "            for letter in name:\n",
    "                    if(letter.isdigit()):\n",
    "                        name=name[0:c-1]\n",
    "                    c+=1\n",
    "            identity = name\n",
    "    \n",
    "    if min_dist < 0.7 and identity==person:\n",
    "        output=1\n",
    "    else:\n",
    "        output=0\n",
    "        \n",
    "    return output,identity\n",
    "# GRADED FUNCTION: who_is_it\n",
    "\n",
    "def who_is_it2(person,test,database,databaseNames):   \n",
    "\n",
    "    \n",
    "    min_dist = 100\n",
    "    \n",
    "    for num_sample,sample in enumerate(database):\n",
    "        \n",
    "    \n",
    "        dist = np.linalg.norm(test-sample)\n",
    "        #print(dist)\n",
    "        \n",
    "        if dist<min_dist:\n",
    "            min_dist = dist\n",
    "            identity = databaseNames[num_sample]\n",
    "        #print(min_dist,identity)\n",
    "    #print(min_dist,identity,person)    \n",
    "    if min_dist < 0.7 and identity==person:\n",
    "        output=1\n",
    "    else:\n",
    "        output=0\n",
    "        \n",
    "    return output"
   ]
  },
  {
   "cell_type": "code",
   "execution_count": 200,
   "metadata": {
    "scrolled": false
   },
   "outputs": [],
   "source": [
    "total=0\n",
    "acc = 0\n",
    "test=pd.read_csv('test.csv')\n",
    "database=pd.read_csv('database.csv')\n",
    "test=test.reset_index().values\n",
    "database=database.values\n",
    "# for folder in os.listdir('lfw/'):\n",
    "#     ln=len([name for name in os.listdir('lfw'+'/'+folder)])\n",
    "#     if ln>1:\n",
    "#         for file in os.listdir('lfw/'+folder):\n",
    "#             file_ad = 'lfw/'+folder+'/'+file\n",
    "#             out,identity = who_is_it(file_ad,folder,database,FRmodel)\n",
    "#             total+=1\n",
    "#             acc+=out\n",
    "# print(str(acc*100/total)+'% is total acccuracy')"
   ]
  },
  {
   "cell_type": "code",
   "execution_count": 201,
   "metadata": {
    "scrolled": false
   },
   "outputs": [],
   "source": [
    "testNames=test[:,-1]\n",
    "databaseNames=database[:,-1]\n",
    "database=database[:,0:-1]\n",
    "test=test[:,1:-1]"
   ]
  },
  {
   "cell_type": "code",
   "execution_count": 209,
   "metadata": {},
   "outputs": [
    {
     "name": "stdout",
     "output_type": "stream",
     "text": [
      "(8925, 128)\n"
     ]
    }
   ],
   "source": [
    "#x=who_is_it2(testNames[2],test[2],database,databaseNames)\n",
    "print(database.shape)"
   ]
  },
  {
   "cell_type": "code",
   "execution_count": 212,
   "metadata": {},
   "outputs": [
    {
     "name": "stdout",
     "output_type": "stream",
     "text": [
      "The training accuracy is 0.9997759103641457 %\n"
     ]
    }
   ],
   "source": [
    "count=0\n",
    "for i in range(0,8925):\n",
    "    x=who_is_it2(databaseNames[i],database[i],database,databaseNames)\n",
    "    count+=x\n",
    "print('The training accuracy is',count/8925,'%')"
   ]
  }
 ],
 "metadata": {
  "coursera": {
   "course_slug": "convolutional-neural-networks",
   "graded_item_id": "IaknP",
   "launcher_item_id": "5UMr4"
  },
  "kernelspec": {
   "display_name": "tensorflow3",
   "language": "python",
   "name": "tensorflow3"
  },
  "language_info": {
   "codemirror_mode": {
    "name": "ipython",
    "version": 3
   },
   "file_extension": ".py",
   "mimetype": "text/x-python",
   "name": "python",
   "nbconvert_exporter": "python",
   "pygments_lexer": "ipython3",
   "version": "3.5.2"
  }
 },
 "nbformat": 4,
 "nbformat_minor": 2
}
